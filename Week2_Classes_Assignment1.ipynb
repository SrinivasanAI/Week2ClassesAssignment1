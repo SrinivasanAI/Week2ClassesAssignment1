{
 "cells": [
  {
   "cell_type": "code",
   "execution_count": 1,
   "id": "9aaff133-e399-4f5a-a210-17e73fc2d074",
   "metadata": {},
   "outputs": [
    {
     "name": "stdout",
     "output_type": "stream",
     "text": [
      "Sub-fields in AI are : \n",
      "Machine Learning\n",
      "Neural Networks\n",
      "Vision\n",
      "Robotics\n",
      "Speech Processing\n",
      "Natural Language Processing\n"
     ]
    }
   ],
   "source": [
    "# [1] Create a class SubfieldsInAI and function Subfields() and list out the items in the list \n",
    "#Class Definition\n",
    "class SubfieldsInAI() :\n",
    "    #Function Definition\n",
    "    def Subfields() : \n",
    "        subFieldsList = [\"Machine Learning\",\"Neural Networks\",\"Vision\",\"Robotics\",\"Speech Processing\",\"Natural Language Processing\"]\n",
    "        print(\"Sub-fields in AI are : \")\n",
    "        for fieldItem in subFieldsList :\n",
    "            print(fieldItem)\n",
    "#Function Call            \n",
    "SubfieldsInAI.Subfields()"
   ]
  },
  {
   "cell_type": "code",
   "execution_count": 5,
   "id": "4e01fade-3db7-470f-aeca-ae7e1177b720",
   "metadata": {},
   "outputs": [
    {
     "name": "stdin",
     "output_type": "stream",
     "text": [
      "Enter a number :  58\n"
     ]
    },
    {
     "name": "stdout",
     "output_type": "stream",
     "text": [
      "58  is Even number\n"
     ]
    }
   ],
   "source": [
    "# [2] Create a class with function that checks whether the given number is Odd or Even\n",
    "#Class Definition\n",
    "class OddEven :\n",
    "    #Function Definition\n",
    "    def OddEven(num) : \n",
    "        if(num%2==0) :\n",
    "            print(num, \" is Even number\")\n",
    "        else :\n",
    "            print(num, \" is Odd number\") \n",
    "\n",
    "num = int(input(\"Enter a number : \"))\n",
    "#Function Call  \n",
    "OddEven.OddEven(num)"
   ]
  },
  {
   "cell_type": "code",
   "execution_count": 9,
   "id": "aecb4e9c-c924-490c-96e9-9a0467615dbd",
   "metadata": {},
   "outputs": [
    {
     "name": "stdin",
     "output_type": "stream",
     "text": [
      "Enter your age :  20\n",
      "Enter your gender (Male/Female) :  Female\n"
     ]
    },
    {
     "name": "stdout",
     "output_type": "stream",
     "text": [
      "Eligible to get married\n"
     ]
    }
   ],
   "source": [
    "# [3] Create a class with function that tells elegibility of marriage for male and female according to their age limit like 21 for male and 18 for female \n",
    "#Class Definition\n",
    "class MarriageEligibility() :\n",
    "    #Function Definition\n",
    "    def MarriageEligibilityChecker(age,gender) :\n",
    "        if(gender.lower()==\"female\" and age>=18) :\n",
    "            print(\"Eligible to get married\")\n",
    "        elif(gender.lower()==\"male\" and age>=21) :\n",
    "            print(\"Eligible to get married\")\n",
    "        else :\n",
    "             print(\"Not Eligible to get married\")\n",
    "\n",
    "age = int( input(\"Enter your age : \"))\n",
    "gender = input(\"Enter your gender (Male/Female) : \" )\n",
    "\n",
    "#Function Call \n",
    "MarriageEligibility.MarriageEligibilityChecker(age,gender)"
   ]
  },
  {
   "cell_type": "code",
   "execution_count": 10,
   "id": "fdd1e222-58c9-4538-af29-4e588932ffc2",
   "metadata": {},
   "outputs": [
    {
     "name": "stdin",
     "output_type": "stream",
     "text": [
      "Enter Tamil marks :  89\n",
      "Enter English marks :  88\n",
      "Enter Maths marks :  87\n",
      "Enter Science marks :  86\n",
      "Enter Social Science marks :  87\n"
     ]
    },
    {
     "name": "stdout",
     "output_type": "stream",
     "text": [
      "Total :  437\n",
      "Percentage :  87.4\n"
     ]
    }
   ],
   "source": [
    "# [4] Create a class with function that calculates total &  percentage of enterted marks\n",
    "#Class Definition\n",
    "class MarkList() :\n",
    "    #Function Definition\n",
    "    def MarkListCalculator(m1,m2,m3,m4,m5) :\n",
    "       total = m1 + m2 + m3 + m4 + m5\n",
    "       percentage = (total/500)*100 \n",
    "       print(\"Total : \", total)\n",
    "       print(\"Percentage : \", percentage) \n",
    "    \n",
    "tamil = int ( input(\"Enter Tamil marks : \") )\n",
    "english = int ( input(\"Enter English marks : \") )\n",
    "maths = int ( input(\"Enter Maths marks : \" ) )\n",
    "science = int ( input(\"Enter Science marks : \") )\n",
    "social = int ( input(\"Enter Social Science marks : \") )\n",
    "\n",
    "#Function Call \n",
    "MarkList.MarkListCalculator(tamil,english,maths,science,social)"
   ]
  },
  {
   "cell_type": "code",
   "execution_count": 11,
   "id": "6c25d637-7dce-496d-9a2b-9f752a6231af",
   "metadata": {},
   "outputs": [
    {
     "name": "stdin",
     "output_type": "stream",
     "text": [
      "Enter height 10\n",
      "Enter width  5\n"
     ]
    },
    {
     "name": "stdout",
     "output_type": "stream",
     "text": [
      "Height :  10\n",
      "Breadth :  5\n",
      "Area of triangle :  25.0\n"
     ]
    },
    {
     "name": "stdin",
     "output_type": "stream",
     "text": [
      "Enter height1 5\n",
      "Enter height2 10\n",
      "Enter breadth  15\n"
     ]
    },
    {
     "name": "stdout",
     "output_type": "stream",
     "text": [
      "Height1 :  5\n",
      "Height2 :  10\n",
      "Breadth :  15\n",
      "Perimeter of triangle :  30\n"
     ]
    }
   ],
   "source": [
    "# [5] print area and perimeter of triangle using class and functions\n",
    "#Class Definition\n",
    "class Triangle() :\n",
    "    #Function Definition\n",
    "    def CalculateArea(height,breadth) :\n",
    "        return (height*breadth)/2\n",
    "    def CalculatePerimeter(height1,height2,breadth) :\n",
    "        return height1+height2+breadth\n",
    "\n",
    "#Getting Inputs to calculate Area\n",
    "height = int ( input(\"Enter height\") )\n",
    "breadth  = int ( input(\"Enter width \") )\n",
    "#Function Call to calculate Area\n",
    "print(\"Height : \", height)\n",
    "print(\"Breadth : \", breadth)\n",
    "print(\"Area of triangle : \", Triangle.CalculateArea(height,breadth) )\n",
    "\n",
    "#Getting Inputs to calculate Perimeter\n",
    "height1 = int ( input(\"Enter height1\") )\n",
    "height2 = int ( input(\"Enter height2\") )\n",
    "breadth  = int ( input(\"Enter breadth \") )\n",
    "#Function Call to calculate Perimeter\n",
    "print(\"Height1 : \", height1)\n",
    "print(\"Height2 : \", height2)\n",
    "print(\"Breadth : \", breadth)\n",
    "print(\"Perimeter of triangle : \", Triangle.CalculatePerimeter(height1,height2,breadth) )"
   ]
  },
  {
   "cell_type": "code",
   "execution_count": null,
   "id": "9a422ecd-fefb-4a37-b777-64635103ee54",
   "metadata": {},
   "outputs": [],
   "source": []
  }
 ],
 "metadata": {
  "kernelspec": {
   "display_name": "Python 3 (ipykernel)",
   "language": "python",
   "name": "python3"
  },
  "language_info": {
   "codemirror_mode": {
    "name": "ipython",
    "version": 3
   },
   "file_extension": ".py",
   "mimetype": "text/x-python",
   "name": "python",
   "nbconvert_exporter": "python",
   "pygments_lexer": "ipython3",
   "version": "3.12.7"
  }
 },
 "nbformat": 4,
 "nbformat_minor": 5
}
